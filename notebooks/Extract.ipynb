{
 "cells": [
  {
   "cell_type": "code",
   "execution_count": 1,
   "metadata": {},
   "outputs": [],
   "source": [
    "import seaborn as sns\n",
    "import metapack as mp\n",
    "import pandas as pd\n",
    "import numpy as np\n",
    "import matplotlib.pyplot as plt\n",
    "from IPython.display import display \n",
    "\n",
    "%matplotlib inline\n",
    "sns.set_context('notebook')\n",
    "mp.jupyter.init()\n"
   ]
  },
  {
   "cell_type": "code",
   "execution_count": 2,
   "metadata": {},
   "outputs": [
    {
     "data": {
      "text/html": [
       "<h1>OSM Roads</h1>\n",
       "<p><code>civicknowledge.com-roads-demosearch-1.1.1</code> Last Update: 2021-05-11T03:25:00</p>\n",
       "<p><em>Roads derived from Open Street Map data</em></p>\n",
       "<h2>Contacts</h2>\n",
       "<ul>\n",
       "<li><strong>Wrangler</strong> <a href=\"mailto:eric@civicknowledge.com\">Eric Busboom</a>, <a href=\"http://civicknowledge.com\">Civic Knowledge</a></li>\n",
       "</ul>\n",
       "<h2>References</h2>\n",
       "<ul><li> <strong>nonres_roads</string>, <em>index:civicknowledge.com-osm-demosearch#nonres_roads</em>. OSM Non residential roads</li><ul>"
      ],
      "text/plain": [
       "# OSM Roads\n",
       "`civicknowledge.com-roads-demosearch-1.1.1` Last Update: 2021-05-11T03:25:00\n",
       "\n",
       "_Roads derived from Open Street Map data_\n",
       "\n",
       "\n",
       "\n",
       "\n",
       " \n",
       "\n",
       "## Contacts\n",
       "\n",
       "* **Wrangler** [Eric Busboom](mailto:eric@civicknowledge.com), [Civic Knowledge](http://civicknowledge.com)\n",
       "\n",
       "\n",
       "## References\n",
       "<ul><li> <strong>nonres_roads</string>, <em>index:civicknowledge.com-osm-demosearch#nonres_roads</em>. OSM Non residential roads</li><ul>\n"
      ]
     },
     "execution_count": 2,
     "metadata": {},
     "output_type": "execute_result"
    }
   ],
   "source": [
    "#pkg = mp.jupyter.open_package()\n",
    "pkg = mp.jupyter.open_source_package()\n",
    "pkg"
   ]
  },
  {
   "cell_type": "code",
   "execution_count": 3,
   "metadata": {},
   "outputs": [],
   "source": [
    "nroads = pkg.reference('nonres_roads').geoframe()"
   ]
  },
  {
   "cell_type": "code",
   "execution_count": 4,
   "metadata": {},
   "outputs": [
    {
     "data": {
      "text/html": [
       "<div>\n",
       "<style scoped>\n",
       "    .dataframe tbody tr th:only-of-type {\n",
       "        vertical-align: middle;\n",
       "    }\n",
       "\n",
       "    .dataframe tbody tr th {\n",
       "        vertical-align: top;\n",
       "    }\n",
       "\n",
       "    .dataframe thead th {\n",
       "        text-align: right;\n",
       "    }\n",
       "</style>\n",
       "<table border=\"1\" class=\"dataframe\">\n",
       "  <thead>\n",
       "    <tr style=\"text-align: right;\">\n",
       "      <th></th>\n",
       "      <th>band</th>\n",
       "      <th>primary</th>\n",
       "      <th>secondary</th>\n",
       "      <th>tertiary</th>\n",
       "      <th>trunk</th>\n",
       "      <th>highway</th>\n",
       "      <th>geometry</th>\n",
       "    </tr>\n",
       "  </thead>\n",
       "  <tbody>\n",
       "    <tr>\n",
       "      <th>0</th>\n",
       "      <td>16</td>\n",
       "      <td>0</td>\n",
       "      <td>0</td>\n",
       "      <td>1</td>\n",
       "      <td>0</td>\n",
       "      <td>0</td>\n",
       "      <td>LINESTRING (-89.58576 44.54113, -89.58449 44.5...</td>\n",
       "    </tr>\n",
       "    <tr>\n",
       "      <th>1</th>\n",
       "      <td>16</td>\n",
       "      <td>1</td>\n",
       "      <td>0</td>\n",
       "      <td>0</td>\n",
       "      <td>0</td>\n",
       "      <td>0</td>\n",
       "      <td>LINESTRING (-89.54947 44.48176, -89.54944 44.4...</td>\n",
       "    </tr>\n",
       "    <tr>\n",
       "      <th>2</th>\n",
       "      <td>16</td>\n",
       "      <td>0</td>\n",
       "      <td>0</td>\n",
       "      <td>1</td>\n",
       "      <td>0</td>\n",
       "      <td>0</td>\n",
       "      <td>LINESTRING (-89.57474 44.51932, -89.57463 44.5...</td>\n",
       "    </tr>\n",
       "    <tr>\n",
       "      <th>3</th>\n",
       "      <td>16</td>\n",
       "      <td>0</td>\n",
       "      <td>0</td>\n",
       "      <td>0</td>\n",
       "      <td>0</td>\n",
       "      <td>1</td>\n",
       "      <td>LINESTRING (-89.51856 44.42711, -89.51838 44.4...</td>\n",
       "    </tr>\n",
       "    <tr>\n",
       "      <th>4</th>\n",
       "      <td>16</td>\n",
       "      <td>0</td>\n",
       "      <td>0</td>\n",
       "      <td>1</td>\n",
       "      <td>0</td>\n",
       "      <td>0</td>\n",
       "      <td>LINESTRING (-89.56464 44.52941, -89.56463 44.5...</td>\n",
       "    </tr>\n",
       "  </tbody>\n",
       "</table>\n",
       "</div>"
      ],
      "text/plain": [
       "   band  primary  secondary  tertiary  trunk  highway  \\\n",
       "0    16        0          0         1      0        0   \n",
       "1    16        1          0         0      0        0   \n",
       "2    16        0          0         1      0        0   \n",
       "3    16        0          0         0      0        1   \n",
       "4    16        0          0         1      0        0   \n",
       "\n",
       "                                            geometry  \n",
       "0  LINESTRING (-89.58576 44.54113, -89.58449 44.5...  \n",
       "1  LINESTRING (-89.54947 44.48176, -89.54944 44.4...  \n",
       "2  LINESTRING (-89.57474 44.51932, -89.57463 44.5...  \n",
       "3  LINESTRING (-89.51856 44.42711, -89.51838 44.4...  \n",
       "4  LINESTRING (-89.56464 44.52941, -89.56463 44.5...  "
      ]
     },
     "execution_count": 4,
     "metadata": {},
     "output_type": "execute_result"
    }
   ],
   "source": [
    "t = nroads[nroads.cus_state == 1].copy()\n",
    "\n",
    "t['band'] = t.zone.str.slice(0, 2).astype(int)\n",
    "\n",
    "type_map = {\n",
    "    '1': 'primary',  # Primary roads\n",
    "    '2': 'secondary',  # Secondary roads\n",
    "    '3': 'tertiary',  # Tertiary roads\n",
    "    't': 'trunk',  # Trunks\n",
    "    'm': 'highway',  # Motorways\n",
    "    # 'r': 6 # Residential\n",
    "}\n",
    "\n",
    "t = pd.get_dummies(t, columns=['highway'])\n",
    "\n",
    "cm = {'highway_' + k: v for k, v in type_map.items()}\n",
    "t = t.rename(columns=cm)\n",
    "cols = list(cm.values())\n",
    "\n",
    "roads = t[['band'] + cols + ['geometry']]\n",
    "roads.head()"
   ]
  },
  {
   "cell_type": "code",
   "execution_count": null,
   "metadata": {},
   "outputs": [],
   "source": []
  }
 ],
 "metadata": {
  "kernelspec": {
   "display_name": "Python 3",
   "language": "python",
   "name": "python3"
  },
  "language_info": {
   "codemirror_mode": {
    "name": "ipython",
    "version": 3
   },
   "file_extension": ".py",
   "mimetype": "text/x-python",
   "name": "python",
   "nbconvert_exporter": "python",
   "pygments_lexer": "ipython3",
   "version": "3.8.8"
  }
 },
 "nbformat": 4,
 "nbformat_minor": 4
}
